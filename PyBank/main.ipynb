{
 "cells": [
  {
   "cell_type": "code",
   "execution_count": 7,
   "metadata": {},
   "outputs": [],
   "source": [
    "# import libraries \n",
    "import os\n",
    "import csv\n",
    "\n",
    "# join paths\n",
    "csvpath = os.path.join(\"resources\", \"budget_data.csv\")\n",
    "\n",
    "# set variables\n",
    "counter = 0\n",
    "net_profit = 0 \n",
    "\n",
    "#open/read csv\n",
    "with open(csvpath, newline =\"\") as file_data:\n",
    "    \n",
    "# converting to readable data\n",
    "    reader = csv.reader(file_data, delimiter=\",\")\n",
    "    \n",
    "# skip header row\n",
    "    header = next(reader)\n",
    "    \n",
    "#create lists for storing profit and months\n",
    "    p = []\n",
    "    m = []\n",
    "\n",
    "    for row in reader:\n",
    "        counter = counter + 1\n",
    "        net_profit = net_profit + int(row[1])\n",
    "        p.append(int(row[1]))\n",
    "        m.append(row[0])\n",
    "        \n",
    "    change = []\n",
    "\n",
    "    for i in range(1, len(p)):\n",
    "        change.append((int(p[i]) - int(p[i - 1])))\n",
    "    \n",
    "    average = sum(change) / len(change)\n",
    "    \n",
    "    increase = max(change)\n",
    "\n",
    "    decrease = min(change)\n",
    "    \n",
    "    months = len(m)\n",
    "        "
   ]
  },
  {
   "cell_type": "code",
   "execution_count": 8,
   "metadata": {},
   "outputs": [
    {
     "name": "stdout",
     "output_type": "stream",
     "text": [
      "86\n"
     ]
    }
   ],
   "source": [
    "    print(months)"
   ]
  },
  {
   "cell_type": "code",
   "execution_count": 11,
   "metadata": {},
   "outputs": [
    {
     "name": "stdout",
     "output_type": "stream",
     "text": [
      "Analyis\n",
      "........................................................\n",
      "Total months: 86\n",
      "Total: $38382578\n",
      "Average change: $-2315.1176470588234\n",
      "Greatest Increase in Profits: Feb-2012 $1926159\n",
      "Greatest Decrease in Profits: Sep-2013 $-2196167\n"
     ]
    }
   ],
   "source": [
    "    print(\"Analyis\")\n",
    "    print(\"........................................................\")\n",
    "    print(\"Total months: \" + str(months))\n",
    "    print(\"Total: $\" + str(net_profit))\n",
    "    print(\"Average change: $\" + str(average))\n",
    "    print(\"Greatest Increase in Profits: \" + str(m[change.index(max(change))+1]) + \" \" + \"$\" + str(increase))\n",
    "    print(\"Greatest Decrease in Profits: \" + str(m[change.index(min(change))+1]) + \" \" + \"$\" + str(decrease))"
   ]
  },
  {
   "cell_type": "code",
   "execution_count": null,
   "metadata": {},
   "outputs": [],
   "source": [
    "    file = open(\"exported_data\", \"w\")\n",
    "    file.write(\"Analyis\")\n",
    "    file.write(\"\\n--------------------------------------------------------------\")\n",
    "    file.write(\"\\nTotal months: \" + str(months))\n",
    "    file.write(\"\\nTotal: $\" + str(net_profit))\n",
    "    file.write(\"\\nAverage change: $\" + str(average))\n",
    "    file.write(\"\\nGreatest Increase in Profits: \" + str(m[change.index(max(change))+1]) + \" \" + \"$\" + str(increase)\n",
    "    file.write(\"\\nGreatest Decrease in Profits: \" + str(m[change.index(min(change))+1]) + \" \" + \"$\" + str(decrease)\n",
    "    file.close()"
   ]
  },
  {
   "cell_type": "code",
   "execution_count": null,
   "metadata": {},
   "outputs": [],
   "source": []
  }
 ],
 "metadata": {
  "kernelspec": {
   "display_name": "Python 3",
   "language": "python",
   "name": "python3"
  },
  "language_info": {
   "codemirror_mode": {
    "name": "ipython",
    "version": 3
   },
   "file_extension": ".py",
   "mimetype": "text/x-python",
   "name": "python",
   "nbconvert_exporter": "python",
   "pygments_lexer": "ipython3",
   "version": "3.7.0"
  }
 },
 "nbformat": 4,
 "nbformat_minor": 2
}
